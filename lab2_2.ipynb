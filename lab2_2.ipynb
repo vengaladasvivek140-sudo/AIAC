{
  "nbformat": 4,
  "nbformat_minor": 0,
  "metadata": {
    "colab": {
      "provenance": [],
      "authorship_tag": "ABX9TyMt+SIiHZjBC9BAnYN0Abpc",
      "include_colab_link": true
    },
    "kernelspec": {
      "name": "python3",
      "display_name": "Python 3"
    },
    "language_info": {
      "name": "python"
    }
  },
  "cells": [
    {
      "cell_type": "markdown",
      "metadata": {
        "id": "view-in-github",
        "colab_type": "text"
      },
      "source": [
        "<a href=\"https://colab.research.google.com/github/vengaladasvivek140-sudo/AIAC/blob/main/lab2_2.ipynb\" target=\"_parent\"><img src=\"https://colab.research.google.com/assets/colab-badge.svg\" alt=\"Open In Colab\"/></a>"
      ]
    },
    {
      "cell_type": "code",
      "execution_count": null,
      "metadata": {
        "id": "nRzz0gU6wtfa"
      },
      "outputs": [],
      "source": []
    },
    {
      "cell_type": "markdown",
      "source": [
        "TASK0:BUILD A PYTHON FUNCTION TO CHECK NUMBERR IS PRIME OR NOT\n",
        "\n",
        "prompt:write a python function to check the given number is prime or not"
      ],
      "metadata": {
        "id": "Brgv7s4qwukH"
      }
    },
    {
      "cell_type": "code",
      "source": [
        "def is_prime(num):\n",
        "    \"\"\"\n",
        "    Checks if a given number is prime.\n",
        "\n",
        "    Args:\n",
        "        num: The number to check.\n",
        "\n",
        "    Returns:\n",
        "        True if the number is prime, False otherwise.\n",
        "    \"\"\"\n",
        "    if num <= 1:\n",
        "        return False\n",
        "    for i in range(2, int(num**0.5) + 1):\n",
        "        if num % i == 0:\n",
        "            return False\n",
        "    return True\n",
        "\n",
        "# Example usage:\n",
        "print(is_prime(7))\n",
        "print(is_prime(10))"
      ],
      "metadata": {
        "id": "zTKOH92Sw0Sk"
      },
      "execution_count": 2,
      "outputs": []
    },
    {
      "cell_type": "markdown",
      "source": [
        "if num <= 1:\n",
        "        return False\n",
        "    for i in range(2, int(num**0.5) + 1):\n",
        "        if num % i == 0:\n",
        "            return False\n",
        "    return True\n",
        "\n",
        "This code block checks if a number num is a prime number:\n",
        "\n",
        "if num <= 1:: This line checks if the input number num is less than or equal to 1. According to the definition of prime numbers, a prime number must be greater than 1. So, if num is 1 or less, the function immediately returns False, indicating it's not a prime number.\n",
        "`for i in range(2, int(num0.5) + 1):**: This is aforloop that iterates through potential divisors ofnum`.\n",
        "range(2, int(num**0.5) + 1) creates a sequence of numbers starting from 2 and going up to the integer part of the square root of num, plus 1. We only need to check for divisors up to the square root of num because if a number has a divisor larger than its square root, it must also have a divisor smaller than its square root.\n",
        "The loop assigns each number in this range to the variable i in each iteration.\n",
        "if num % i == 0:: Inside the loop, this line checks if num is perfectly divisible by the current value of i (the potential divisor). The modulo operator (%) returns the remainder of the division. If the remainder is 0, it means num is divisible by i.\n",
        "If num is divisible by any number i in this range (other than 1 and itself, which are excluded by the loop's range), it means num is not a prime number, and the function returns False.\n",
        "return True: If the for loop completes without finding any divisors that satisfy the if num % i == 0: condition, it means that num is only divisible by 1 and itself within the checked range. Since we've already handled numbers less than or equal to 1, this indicates that num is a prime number, and the function returns True.\n"
      ],
      "metadata": {
        "id": "FJA5Vp4_w-F1"
      }
    },
    {
      "cell_type": "markdown",
      "source": [
        "TASK1:write a function that filters out all negative number from a list\n"
      ],
      "metadata": {
        "id": "ts7MOGIc5Qkr"
      }
    },
    {
      "cell_type": "code",
      "source": [
        "def filter_negative_numbers(numbers):\n",
        "  \"\"\"\n",
        "  Filters out negative numbers from a list.\n",
        "\n",
        "  Args:\n",
        "    numbers: A list of numbers.\n",
        "\n",
        "  Returns:\n",
        "    A new list containing only the non-negative numbers from the input list.\n",
        "  \"\"\"\n",
        "  return [num for num in numbers if num >= 0]\n",
        "\n",
        "# Example usage:\n",
        "my_list = [1, -2, 3, -4, 5, 0, -6]\n",
        "filtered_list = filter_negative_numbers(my_list)\n",
        "print(filtered_list)"
      ],
      "metadata": {
        "colab": {
          "base_uri": "https://localhost:8080/"
        },
        "id": "Is85uOxv5lQS",
        "outputId": "22c43a9e-138c-4c39-ea17-3a0741079dd3"
      },
      "execution_count": 3,
      "outputs": [
        {
          "output_type": "stream",
          "name": "stdout",
          "text": [
            "[1, 3, 5, 0]\n"
          ]
        }
      ]
    },
    {
      "cell_type": "markdown",
      "source": [
        "write a function that filters out all negative number from a list\n",
        "\n",
        "\n",
        "This Python code defines a function called filter_negative_numbers that takes a list of numbers as input and returns a new list containing only the non-negative numbers from the input list.\n",
        "\n",
        "Here's a breakdown:\n",
        "\n",
        "def filter_negative_numbers(numbers):: This line defines the function named filter_negative_numbers that accepts one argument, numbers, which is expected to be a list.\n",
        "Docstring: The triple-quoted string below the function definition is a docstring. It explains what the function does, its arguments (Args), and what it returns (Returns).\n",
        "return [num for num in numbers if num >= 0]: This is the core of the function, using a list comprehension.\n",
        "[... for num in numbers ...] iterates through each element in the input numbers list, assigning each element to the variable num.\n",
        "... if num >= 0] is a filter condition. For each num in the list, it checks if num is greater than or equal to 0 (i.e., non-negative).\n",
        "[num ...] only includes the num in the new list if the condition num >= 0 is True.\n",
        "The entire list comprehension constructs a new list containing only the elements from the original list that satisfy the condition, and this new list is returned by the function.\n",
        "Example Usage: The lines outside the function show how to use it:\n",
        "my_list = [1, -2, 3, -4, 5, 0, -6] creates a sample list with both positive and negative numbers, and zero.\n",
        "filtered_list = filter_negative_numbers(my_list) calls the function with my_list and stores the returned list (the filtered one) in the variable filtered_list.\n",
        "print(filtered_list) prints the filtered_list to the console.\n",
        "When this code is run, the output will be [1, 3, 5, 0], which are all the non-negative numbers from the original list.\n",
        "\n"
      ],
      "metadata": {
        "id": "tNroxLvb5u1s"
      }
    },
    {
      "cell_type": "markdown",
      "source": [
        "TASK2:Generate code that reads a text file and counts the frequency of each word. Then ask it to explain the code"
      ],
      "metadata": {
        "id": "k1FbOE7O54Vt"
      }
    },
    {
      "cell_type": "code",
      "source": [],
      "metadata": {
        "id": "C1ulVKcT6L22"
      },
      "execution_count": null,
      "outputs": []
    },
    {
      "cell_type": "code",
      "metadata": {
        "id": "1f6002d5"
      },
      "source": [
        "from collections import Counter\n",
        "import re\n",
        "\n",
        "def count_word_frequency(filepath):\n",
        "    \"\"\"\n",
        "    Reads a text file and counts the frequency of each word.\n",
        "\n",
        "    Args:\n",
        "        filepath: The path to the text file.\n",
        "\n",
        "    Returns:\n",
        "        A dictionary where keys are words and values are their frequencies.\n",
        "    \"\"\"\n",
        "    word_counts = Counter()\n",
        "    try:\n",
        "        with open(filepath, 'r', encoding='utf-8') as file:\n",
        "            for line in file:\n",
        "                # Remove punctuation and convert to lowercase\n",
        "                words = re.findall(r'\\b\\w+\\b', line.lower())\n",
        "                word_counts.update(words)\n",
        "    except FileNotFoundError:\n",
        "        print(f\"Error: File not found at {filepath}\")\n",
        "        return None\n",
        "    except Exception as e:\n",
        "        print(f\"An error occurred: {e}\")\n",
        "        return None\n",
        "\n",
        "    return dict(word_counts)\n",
        "\n",
        "# Example usage:\n",
        "# Create a dummy text file for demonstration\n",
        "with open('sample.txt', 'w', encoding='utf-8') as f:\n",
        "    f.write(\"This is a sample text file.\\n\")\n",
        "    f.write(\"This file contains sample text.\")\n",
        "\n",
        "file_path = 'sample.txt'\n",
        "frequency = count_word_frequency(file_path)\n",
        "\n",
        "if frequency:\n",
        "    print(f\"Word frequency in {file_path}:\")\n",
        "    for word, count in frequency.items():\n",
        "        print(f\"{word}: {count}\")"
      ],
      "execution_count": null,
      "outputs": []
    },
    {
      "cell_type": "markdown",
      "source": [
        "This Python code is designed to read a text file, count the occurrences of each word within it, and then display the word frequencies.\n",
        "\n",
        "Here's a breakdown:\n",
        "\n",
        "from collections import Counter: This line imports the Counter class from the collections module. Counter is a specialized dictionary subclass for counting hashable objects. It's very useful for tallying up items in a list or other iterable.\n",
        "import re: This line imports the re module, which provides support for regular expressions. Regular expressions are used here to find words in the text and remove punctuation.\n",
        "def count_word_frequency(filepath):: This defines a function named count_word_frequency that takes one argument, filepath, which is the path to the text file you want to analyze.\n",
        "Docstring: The triple-quoted string explains what the function does, its arguments (Args), and what it returns (Returns).\n",
        "word_counts = Counter(): Initializes an empty Counter object called word_counts. This object will store the words and their counts.\n",
        "try...except block: This block is used for error handling.\n",
        "try:: The code inside the try block is executed.\n",
        "with open(filepath, 'r', encoding='utf-8') as file:: This opens the file specified by filepath in read mode ('r') with UTF-8 encoding. The with statement ensures the file is properly closed even if errors occur.\n",
        "for line in file:: This loop reads the file line by line.\n",
        "words = re.findall(r'\\b\\w+\\b', line.lower()): This is where the word extraction and cleaning happens:\n",
        "line.lower(): Converts the current line to lowercase to ensure that words like \"The\" and \"the\" are counted as the same word.\n",
        "re.findall(r'\\b\\w+\\b', ...): This uses a regular expression to find all \"words\" in the lowercase line.\n",
        "\\b: Matches a word boundary (ensures that we match whole words and not parts of words).\n",
        "\\w+: Matches one or more \"word characters\" (letters, numbers, and underscore).\n",
        "This effectively extracts sequences of word characters that are surrounded by word boundaries, effectively removing punctuation.\n",
        "word_counts.update(words): This updates the word_counts Counter with the words found in the current line. If a word is already in word_counts, its count is incremented; otherwise, it's added with a count of 1.\n",
        "except FileNotFoundError:: If the specified file is not found, this block is executed, and an error message is printed.\n",
        "except Exception as e:: This catches any other exceptions that might occur during file processing and prints an error message.\n",
        "return dict(word_counts): After processing all lines (if no errors occurred), the function converts the Counter object word_counts into a regular dictionary and returns it.\n",
        "Example Usage: The code outside the function demonstrates how to use it:\n",
        "It first creates a dummy text file named sample.txt for demonstration purposes.\n",
        "It sets the file_path variable to 'sample.txt'.\n",
        "It calls the count_word_frequency function with the file_path and stores the returned frequency dictionary in the frequency variable.\n",
        "if frequency:: This checks if the frequency dictionary is not None (meaning the file was processed successfully).\n",
        "It then prints a header and iterates through the frequency dictionary's items (word and count) to print each word and its frequency.\n",
        "In summary, this code provides a robust way to read a text file, extract words while ignoring punctuation and case, and then count how many times each word appears.\n",
        "\n"
      ],
      "metadata": {
        "id": "4i8v_hiI6eSc"
      }
    },
    {
      "cell_type": "markdown",
      "source": [
        "TASK:3Generate a Python class called Book with attributes title, author, and a method summary() that prints the details."
      ],
      "metadata": {
        "id": "p-ngYiil9oNN"
      }
    },
    {
      "cell_type": "code",
      "source": [
        "class Book:\n",
        "    \"\"\"\n",
        "    A class to represent a book.\n",
        "\n",
        "    Attributes:\n",
        "        title (str): The title of the book.\n",
        "        author (str): The author of the book.\n",
        "    \"\"\"\n",
        "    def __init__(self, title, author):\n",
        "        \"\"\"\n",
        "        Initializes a new Book object.\n",
        "\n",
        "        Args:\n",
        "            title: The title of the book.\n",
        "            author: The author of the book.\n",
        "        \"\"\"\n",
        "        self.title = title\n",
        "        self.author = author\n",
        "\n",
        "    def summary(self):\n",
        "        \"\"\"\n",
        "        Prints the details of the book.\n",
        "        \"\"\"\n",
        "        print(f\"Title: {self.title}\")\n",
        "        print(f\"Author: {self.author}\")\n",
        "\n",
        "# Example usage:\n",
        "my_book = Book(\"The Hitchhiker's Guide to the Galaxy\", \"Douglas Adams\")\n",
        "my_book.summary()"
      ],
      "metadata": {
        "colab": {
          "base_uri": "https://localhost:8080/"
        },
        "id": "FmpKd_v-95_Q",
        "outputId": "8d9853f5-7a56-4d88-ff42-bf9abfc56997"
      },
      "execution_count": 4,
      "outputs": [
        {
          "output_type": "stream",
          "name": "stdout",
          "text": [
            "Title: The Hitchhiker's Guide to the Galaxy\n",
            "Author: Douglas Adams\n"
          ]
        }
      ]
    },
    {
      "cell_type": "markdown",
      "source": [
        "class Book:\n",
        "    \"\"\"\n",
        "    A class to represent a book.\n",
        "\n",
        "    Attributes:\n",
        "        title (str): The title of the book.\n",
        "        author (str): The author of the book.\n",
        "    \"\"\"\n",
        "    def __init__(self, title, author):\n",
        "        \"\"\"\n",
        "        Initializes a new Book object.\n",
        "\n",
        "        Args:\n",
        "            title: The title of the book.\n",
        "            author: The author of the book.\n",
        "        \"\"\"\n",
        "        self.title = title\n",
        "        self.author = author\n",
        "\n",
        "    def summary(self):\n",
        "        \"\"\"\n",
        "        Prints the details of the book.\n",
        "        \"\"\"\n",
        "        print(f\"Title: {self.title}\")\n",
        "        print(f\"Author: {self.author}\")\n",
        "\n",
        "# Example usage:\n",
        "my_book = Book(\"The Hitchhiker's Guide to the Galaxy\", \"Douglas Adams\")\n",
        "my_book.summary()\n",
        "class Book:: This line defines a new class named Book. In object-oriented programming, a class is a blueprint for creating objects (instances).\n",
        "Docstring for the class: The triple-quoted string right after the class definition is a docstring for the class itself. It explains the purpose of the class (\"A class to represent a book.\") and lists its attributes (title and author).\n",
        "def __init__(self, title, author):: This is the constructor method for the Book class. The __init__ method is a special method that gets called automatically when you create a new instance of the class.\n",
        "self: This refers to the instance of the class being created. It's the first argument in instance methods and allows you to access the instance's attributes and methods.\n",
        "title and author: These are parameters that you pass when creating a new Book object. They represent the title and author of the book.\n",
        "Inside the __init__ method, self.title = title and self.author = author assign the values passed as arguments to the title and author attributes of the Book instance.\n",
        "Docstring for __init__: This docstring explains the purpose of the __init__ method and describes its arguments.\n",
        "def summary(self):: This defines a method called summary within the Book class. This method is designed to print the details of a book.\n",
        "self: Again, this refers to the instance of the class on which the method is called.\n",
        "Inside the summary method, print(f\"Title: {self.title}\") and print(f\"Author: {self.author}\") use f-strings to print the values of the title and author attributes of the specific Book instance.\n",
        "Docstring for summary: This docstring explains what the summary method does.\n",
        "Example usage:\n",
        "my_book = Book(\"The Hitchhiker's Guide to the Galaxy\", \"Douglas Adams\"): This line creates a new instance (an object) of the Book class. It calls the __init__ method, passing \"The Hitchhiker's Guide to the Galaxy\" as the title and \"Douglas Adams\" as the author. The new Book object is assigned to the variable my_book.\n",
        "my_book.summary(): This line calls the summary method on the my_book object. This will execute the code inside the summary method, printing the title and author of my_book.\n",
        "In essence, this code defines a simple structure for representing books in your program, allowing you to create book objects and easily display their information.\n",
        "\n"
      ],
      "metadata": {
        "id": "egRYZ7zq-H5z"
      }
    },
    {
      "cell_type": "markdown",
      "source": [
        "TASK4:write a program that checks whether a number is an Armstrong number, and then modify it using Cursor AI to improve performance or structure."
      ],
      "metadata": {
        "id": "fMJtg4a0-XpL"
      }
    },
    {
      "cell_type": "code",
      "source": [
        "def is_armstrong_number(number):\n",
        "    \"\"\"\n",
        "    Checks if a number is an Armstrong number.\n",
        "\n",
        "    An Armstrong number (also known as a narcissistic number,\n",
        "    pluperfect digital invariant, or plus perfect number) is a\n",
        "    number that is the sum of its own digits each raised to the\n",
        "    power of the number of digits in the number.\n",
        "\n",
        "    Args:\n",
        "        number: The number to check.\n",
        "\n",
        "    Returns:\n",
        "        True if the number is an Armstrong number, False otherwise.\n",
        "    \"\"\"\n",
        "    # Convert the number to a string to easily access digits and count them\n",
        "    num_str = str(number)\n",
        "    num_digits = len(num_str)\n",
        "    sum_of_powers = 0\n",
        "\n",
        "    # Calculate the sum of each digit raised to the power of the number of digits\n",
        "    for digit in num_str:\n",
        "        sum_of_powers += int(digit) ** num_digits\n",
        "\n",
        "    # Check if the sum is equal to the original number\n",
        "    return sum_of_powers == number\n",
        "\n",
        "# Example usage:\n",
        "print(f\"Is 9 an Armstrong number? {is_armstrong_number(9)}\")\n",
        "print(f\"Is 153 an Armstrong number? {is_armstrong_number(153)}\")\n",
        "print(f\"Is 370 an Armstrong number? {is_armstrong_number(370)}\")\n",
        "print(f\"Is 371 an Armstrong number? {is_armstrong_number(371)}\")\n",
        "print(f\"Is 407 an Armstrong number? {is_armstrong_number(407)}\")\n",
        "print(f\"Is 1634 an Armstrong number? {is_armstrong_number(1634)}\")\n",
        "print(f\"Is 100 an Armstrong number? {is_armstrong_number(100)}\")"
      ],
      "metadata": {
        "id": "BRqV2tyv-xHl"
      },
      "execution_count": null,
      "outputs": []
    },
    {
      "cell_type": "markdown",
      "source": [
        "def is_armstrong_number(number):\n",
        "    \"\"\"\n",
        "    Checks if a number is an Armstrong number.\n",
        "\n",
        "    An Armstrong number (also known as a narcissistic number,\n",
        "    pluperfect digital invariant, or plus perfect number) is a\n",
        "    number that is the sum of its own digits each raised to the\n",
        "    power of the number of digits in the number.\n",
        "\n",
        "    Args:\n",
        "        number: The number to check.\n",
        "\n",
        "    Returns:\n",
        "        True if the number is an Armstrong number, False otherwise.\n",
        "    \"\"\"\n",
        "    # Convert the number to a string to easily access digits and count them\n",
        "    num_str = str(number)\n",
        "    num_digits = len(num_str)\n",
        "    sum_of_powers = 0\n",
        "\n",
        "    # Calculate the sum of each digit raised to the power of the number of digits\n",
        "    for digit in num_str:\n",
        "        sum_of_powers += int(digit) ** num_digits\n",
        "\n",
        "    # Check if the sum is equal to the original number\n",
        "    return sum_of_powers == number\n",
        "\n",
        "# Example usage:\n",
        "print(f\"Is 9 an Armstrong number? {is_armstrong_number(9)}\")\n",
        "print(f\"Is 153 an Armstrong number? {is_armstrong_number(153)}\")\n",
        "print(f\"Is 370 an Armstrong number? {is_armstrong_number(370)}\")\n",
        "print(f\"Is 371 an Armstrong number? {is_armstrong_number(371)}\")\n",
        "print(f\"Is 407 an Armstrong number? {is_armstrong_number(407)}\")\n",
        "print(f\"Is 1634 an Armstrong number? {is_armstrong_number(1634)}\")\n",
        "print(f\"Is 100 an Armstrong number? {is_armstrong_number(100)}\")\n",
        "\n",
        "This Python code defines a function is_armstrong_number that checks if a given number is an Armstrong number. An Armstrong number is a number that is equal to the sum of its own digits, each raised to the power of the total number of digits in the number.\n",
        "\n",
        "Here's a breakdown of the code:\n",
        "\n",
        "def is_armstrong_number(number):: This line defines the function named is_armstrong_number which takes one argument, number, the integer to be checked.\n",
        "Docstring: The triple-quoted string provides a clear explanation of what an Armstrong number is, the function's arguments, and what it returns.\n",
        "num_str = str(number): The input number is converted to a string (num_str). This is done to easily iterate through each digit of the number.\n",
        "num_digits = len(num_str): The number of digits in the original number is determined by getting the length of the string representation.\n",
        "sum_of_powers = 0: A variable sum_of_powers is initialized to 0. This variable will accumulate the sum of the digits raised to the power of the number of digits.\n",
        "for digit in num_str:: This loop iterates through each character (digit) in the num_str string.\n",
        "sum_of_powers += int(digit) ** num_digits: Inside the loop:\n",
        "int(digit): Converts the current digit character back to an integer.\n",
        "** num_digits: Raises this integer digit to the power of num_digits (the total number of digits in the original number).\n",
        "sum_of_powers += ...: Adds the result of the power calculation to the sum_of_powers variable.\n",
        "return sum_of_powers == number: After the loop finishes, this line compares the calculated sum_of_powers with the original number.\n",
        "If they are equal, the function returns True, indicating that the number is an Armstrong number.\n",
        "If they are not equal, the function returns False.\n",
        "Example usage: The lines following the function demonstrate how to use the is_armstrong_number function with several example numbers (9, 153, 370, 371, 407, 1634, and 100) and print whether each is an Armstrong number or not using f-strings for formatted output.\n"
      ],
      "metadata": {
        "id": "l5pnis_2-2ZW"
      }
    },
    {
      "cell_type": "markdown",
      "source": [
        "TASK5:generate code for sorting a list of dictionaries by a specific key (e.g., age)."
      ],
      "metadata": {
        "id": "S6F4-Q1-_A4z"
      }
    },
    {
      "cell_type": "code",
      "source": [
        "def sort_list_of_dicts(list_of_dicts, key_to_sort_by):\n",
        "    \"\"\"\n",
        "    Sorts a list of dictionaries by a specific key.\n",
        "\n",
        "    Args:\n",
        "        list_of_dicts: The list of dictionaries to sort.\n",
        "        key_to_sort_by: The key to sort the dictionaries by.\n",
        "\n",
        "    Returns:\n",
        "        A new list of dictionaries sorted by the specified key.\n",
        "    \"\"\"\n",
        "    return sorted(list_of_dicts, key=lambda x: x.get(key_to_sort_by))\n",
        "\n",
        "# Example usage:\n",
        "people = [\n",
        "    {'name': 'Alice', 'age': 30, 'city': 'New York'},\n",
        "    {'name': 'Bob', 'age': 25, 'city': 'London'},\n",
        "    {'name': 'Charlie', 'age': 35, 'city': 'Paris'},\n",
        "    {'name': 'David', 'age': 25, 'city': 'Tokyo'}\n",
        "]\n",
        "\n",
        "sorted_people_by_age = sort_list_of_dicts(people, 'age')\n",
        "print(\"Sorted by age:\")\n",
        "for person in sorted_people_by_age:\n",
        "    print(person)\n",
        "\n",
        "sorted_people_by_name = sort_list_of_dicts(people, 'name')\n",
        "print(\"\\nSorted by name:\")\n",
        "for person in sorted_people_by_name:\n",
        "    print(person)"
      ],
      "metadata": {
        "id": "PiIUDkU5_Kea"
      },
      "execution_count": null,
      "outputs": []
    },
    {
      "cell_type": "markdown",
      "source": [
        "def sort_list_of_dicts(list_of_dicts, key_to_sort_by):\n",
        "    \"\"\"\n",
        "    Sorts a list of dictionaries by a specific key.\n",
        "\n",
        "    Args:\n",
        "        list_of_dicts: The list of dictionaries to sort.\n",
        "        key_to_sort_by: The key to sort the dictionaries by.\n",
        "\n",
        "    Returns:\n",
        "        A new list of dictionaries sorted by the specified key.\n",
        "    \"\"\"\n",
        "    return sorted(list_of_dicts, key=lambda x: x.get(key_to_sort_by))\n",
        "\n",
        "# Example usage:\n",
        "people = [\n",
        "    {'name': 'Alice', 'age': 30, 'city': 'New York'},\n",
        "    {'name': 'Bob', 'age': 25, 'city': 'London'},\n",
        "    {'name': 'Charlie', 'age': 35, 'city': 'Paris'},\n",
        "    {'name': 'David', 'age': 25, 'city': 'Tokyo'}\n",
        "]\n",
        "\n",
        "sorted_people_by_age = sort_list_of_dicts(people, 'age')\n",
        "print(\"Sorted by age:\")\n",
        "for person in sorted_people_by_age:\n",
        "    print(person)\n",
        "\n",
        "sorted_people_by_name = sort_list_of_dicts(people, 'name')\n",
        "print(\"\\nSorted by name:\")\n",
        "for person in sorted_people_by_name:\n",
        "    print(person)\n",
        "\n",
        "This Python code defines a function to sort a list of dictionaries based on the value associated with a specific key, and then demonstrates how to use it.\n",
        "\n",
        "Here's a breakdown:\n",
        "\n",
        "def sort_list_of_dicts(list_of_dicts, key_to_sort_by):: This line defines a function named sort_list_of_dicts that takes two arguments:\n",
        "list_of_dicts: The list of dictionaries you want to sort.\n",
        "key_to_sort_by: A string representing the key within each dictionary that you want to use for sorting.\n",
        "Docstring: The triple-quoted string explains the function's purpose, its arguments, and what it returns.\n",
        "return sorted(list_of_dicts, key=lambda x: x.get(key_to_sort_by)): This is the core of the sorting logic.\n",
        "sorted(): This is a built-in Python function that returns a new sorted list from the items in an iterable.\n",
        "list_of_dicts: This is the list of dictionaries that sorted() will operate on.\n",
        "key=lambda x: x.get(key_to_sort_by): This is the crucial part that tells sorted() how to determine the sorting order.\n",
        "lambda x: ...: This defines a small, anonymous function (a lambda function).\n",
        "x: In the context of the sorted() function when applied to a list of dictionaries, x will represent each individual dictionary in the list_of_dicts during the sorting process.\n",
        "x.get(key_to_sort_by): For each dictionary x, this retrieves the value associated with the key_to_sort_by. The get() method is used instead of direct access (x[key_to_sort_by]) because it safely returns None if the key doesn't exist in a dictionary, preventing errors. The sorted() function will then use these retrieved values to compare and order the dictionaries.\n",
        "Example usage: The code following the function demonstrates how to use sort_list_of_dicts:\n",
        "people = [...]: This creates a sample list named people containing several dictionaries, each representing a person with 'name', 'age', and 'city' keys.\n",
        "sorted_people_by_age = sort_list_of_dicts(people, 'age'): This calls the function to sort the people list by the 'age' key and stores the resulting sorted list in sorted_people_by_age.\n",
        "print(\"Sorted by age:\") and the following loop print each dictionary in the sorted_people_by_age list.\n",
        "sorted_people_by_name = sort_list_of_dicts(people, 'name'): This calls the function again, this time sorting the original people list by the 'name' key and storing the result in sorted_people_by_name.\n",
        "print(\"\\nSorted by name:\") and the following loop print each dictionary in the sorted_people_by_name list.\n",
        "In summary, this code provides a flexible way to sort a list of dictionaries based on any specified key within those dictionaries.\n",
        "\n"
      ],
      "metadata": {
        "id": "gE2yTQg4_PUD"
      }
    }
  ]
}