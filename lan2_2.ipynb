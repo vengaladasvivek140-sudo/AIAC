{
  "nbformat": 4,
  "nbformat_minor": 0,
  "metadata": {
    "colab": {
      "provenance": [],
      "authorship_tag": "ABX9TyOWwomPMRFEOnMjm3JL6Ath",
      "include_colab_link": true
    },
    "kernelspec": {
      "name": "python3",
      "display_name": "Python 3"
    },
    "language_info": {
      "name": "python"
    }
  },
  "cells": [
    {
      "cell_type": "markdown",
      "metadata": {
        "id": "view-in-github",
        "colab_type": "text"
      },
      "source": [
        "<a href=\"https://colab.research.google.com/github/vengaladasvivek140-sudo/AIAC/blob/main/lan2_2.ipynb\" target=\"_parent\"><img src=\"https://colab.research.google.com/assets/colab-badge.svg\" alt=\"Open In Colab\"/></a>"
      ]
    },
    {
      "cell_type": "code",
      "execution_count": null,
      "metadata": {
        "id": "nRzz0gU6wtfa"
      },
      "outputs": [],
      "source": []
    },
    {
      "cell_type": "markdown",
      "source": [
        "TASK0:BUILD A PYTHON FUNCTION TO CHECK NUMBERR IS PRIME OR NOT\n",
        "\n",
        "prompt:write a python function to check the given number is prime or not"
      ],
      "metadata": {
        "id": "Brgv7s4qwukH"
      }
    },
    {
      "cell_type": "code",
      "source": [
        "def is_prime(num):\n",
        "    \"\"\"\n",
        "    Checks if a given number is prime.\n",
        "\n",
        "    Args:\n",
        "        num: The number to check.\n",
        "\n",
        "    Returns:\n",
        "        True if the number is prime, False otherwise.\n",
        "    \"\"\"\n",
        "    if num <= 1:\n",
        "        return False\n",
        "    for i in range(2, int(num**0.5) + 1):\n",
        "        if num % i == 0:\n",
        "            return False\n",
        "    return True\n",
        "\n",
        "# Example usage:\n",
        "print(is_prime(7))\n",
        "print(is_prime(10))"
      ],
      "metadata": {
        "id": "zTKOH92Sw0Sk"
      },
      "execution_count": 2,
      "outputs": []
    },
    {
      "cell_type": "markdown",
      "source": [
        "if num <= 1:\n",
        "        return False\n",
        "    for i in range(2, int(num**0.5) + 1):\n",
        "        if num % i == 0:\n",
        "            return False\n",
        "    return True\n",
        "\n",
        "This code block checks if a number num is a prime number:\n",
        "\n",
        "if num <= 1:: This line checks if the input number num is less than or equal to 1. According to the definition of prime numbers, a prime number must be greater than 1. So, if num is 1 or less, the function immediately returns False, indicating it's not a prime number.\n",
        "`for i in range(2, int(num0.5) + 1):**: This is aforloop that iterates through potential divisors ofnum`.\n",
        "range(2, int(num**0.5) + 1) creates a sequence of numbers starting from 2 and going up to the integer part of the square root of num, plus 1. We only need to check for divisors up to the square root of num because if a number has a divisor larger than its square root, it must also have a divisor smaller than its square root.\n",
        "The loop assigns each number in this range to the variable i in each iteration.\n",
        "if num % i == 0:: Inside the loop, this line checks if num is perfectly divisible by the current value of i (the potential divisor). The modulo operator (%) returns the remainder of the division. If the remainder is 0, it means num is divisible by i.\n",
        "If num is divisible by any number i in this range (other than 1 and itself, which are excluded by the loop's range), it means num is not a prime number, and the function returns False.\n",
        "return True: If the for loop completes without finding any divisors that satisfy the if num % i == 0: condition, it means that num is only divisible by 1 and itself within the checked range. Since we've already handled numbers less than or equal to 1, this indicates that num is a prime number, and the function returns True.\n"
      ],
      "metadata": {
        "id": "FJA5Vp4_w-F1"
      }
    }
  ]
}