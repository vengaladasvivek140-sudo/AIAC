{
  "nbformat": 4,
  "nbformat_minor": 0,
  "metadata": {
    "colab": {
      "provenance": [],
      "authorship_tag": "ABX9TyM0grAxBkQcAD0azSaMyAi+",
      "include_colab_link": true
    },
    "kernelspec": {
      "name": "python3",
      "display_name": "Python 3"
    },
    "language_info": {
      "name": "python"
    }
  },
  "cells": [
    {
      "cell_type": "markdown",
      "metadata": {
        "id": "view-in-github",
        "colab_type": "text"
      },
      "source": [
        "<a href=\"https://colab.research.google.com/github/vengaladasvivek140-sudo/AIAC/blob/main/lab3_3.ipynb\" target=\"_parent\"><img src=\"https://colab.research.google.com/assets/colab-badge.svg\" alt=\"Open In Colab\"/></a>"
      ]
    },
    {
      "cell_type": "code",
      "execution_count": null,
      "metadata": {
        "id": "4uFAyWbVLvY5"
      },
      "outputs": [],
      "source": []
    },
    {
      "cell_type": "markdown",
      "source": [
        "TASK1:Write a python program to Try 3 different prompts to generate a factorial function"
      ],
      "metadata": {
        "id": "LuwG63oaLwkV"
      }
    },
    {
      "cell_type": "code",
      "source": [
        "# Prompt 1: Using a recursive function\n",
        "def factorial_recursive(n):\n",
        "  if n == 0:\n",
        "    return 1\n",
        "  else:\n",
        "    return n * factorial_recursive(n-1)\n",
        "\n",
        "print(f\"Factorial of 5 (recursive): {factorial_recursive(5)}\")\n",
        "\n",
        "# Prompt 2: Using an iterative approach with a for loop\n",
        "def factorial_iterative_for(n):\n",
        "  result = 1\n",
        "  for i in range(1, n + 1):\n",
        "    result *= i\n",
        "  return result\n",
        "\n",
        "print(f\"Factorial of 5 (iterative with for loop): {factorial_iterative_for(5)}\")\n",
        "\n",
        "# Prompt 3: Using an iterative approach with a while loop\n",
        "def factorial_iterative_while(n):\n",
        "  result = 1\n",
        "  i = 1\n",
        "  while i <= n:\n",
        "    result *= i\n",
        "    i += 1\n",
        "  return result\n",
        "\n",
        "print(f\"Factorial of 5 (iterative with while loop): {factorial_iterative_while(5)}\")"
      ],
      "metadata": {
        "colab": {
          "base_uri": "https://localhost:8080/"
        },
        "id": "zaa3YoTNORSH",
        "outputId": "c20abda9-f0b1-4c12-d96e-6c6ae709c3ea"
      },
      "execution_count": 1,
      "outputs": [
        {
          "output_type": "stream",
          "name": "stdout",
          "text": [
            "Factorial of 5 (recursive): 120\n",
            "Factorial of 5 (iterative with for loop): 120\n",
            "Factorial of 5 (iterative with while loop): 120\n"
          ]
        }
      ]
    },
    {
      "cell_type": "markdown",
      "source": [
        "# Prompt 1: Using a recursive function\n",
        "def factorial_recursive(n):\n",
        "  if n == 0:\n",
        "    return 1\n",
        "  else:\n",
        "    return n * factorial_recursive(n-1)\n",
        "\n",
        "print(f\"Factorial of 5 (recursive): {factorial_recursive(5)}\")\n",
        "\n",
        "# Prompt 2: Using an iterative approach with a for loop\n",
        "def factorial_iterative_for(n):\n",
        "  result = 1\n",
        "  for i in range(1, n + 1):\n",
        "    result *= i\n",
        "  return result\n",
        "\n",
        "print(f\"Factorial of 5 (iterative with for loop): {factorial_iterative_for(5)}\")\n",
        "\n",
        "# Prompt 3: Using an iterative approach with a while loop\n",
        "def factorial_iterative_while(n):\n",
        "  result = 1\n",
        "  i = 1\n",
        "  while i <= n:\n",
        "    result *= i\n",
        "    i += 1\n",
        "  return result\n",
        "\n",
        "print(f\"Factorial of 5 (iterative with while loop): {factorial_iterative_while(5)}\")\n",
        "\n",
        "EXPLAINATION:\n",
        "\n",
        "This code demonstrates three different ways to calculate the factorial of a number (in this case, 5):\n",
        "\n",
        "Recursive function (factorial_recursive): This function calls itself with a smaller argument until it reaches the base case (n=0), where it returns 1. The result is then calculated by multiplying the current number by the factorial of the previous number.\n",
        "Iterative approach with a for loop (factorial_iterative_for): This function initializes a result variable to 1 and then iterates from 1 up to the given number (n), multiplying the result by each number in the range.\n",
        "Iterative approach with a while loop (factorial_iterative_while): Similar to the for loop approach, this function initializes a result to 1 and a counter i to 1. It then uses a while loop that continues as long as i is less than or equal to n, multiplying the result by i and incrementing i in each iteration.\n",
        "All three methods achieve the same result (120 for the factorial of 5) but use different programming techniques."
      ],
      "metadata": {
        "id": "7TNYnv1ZQRkJ"
      }
    },
    {
      "cell_type": "markdown",
      "source": [
        "TASK2:Provide a clear example input-output prompt to generate a sorting function"
      ],
      "metadata": {
        "id": "n1pyLWDdQpNK"
      }
    },
    {
      "cell_type": "code",
      "source": [
        "# Prompt: Write a Python function called 'sort_list' that takes a list of numbers as input and returns a new list with the numbers sorted in ascending order.\n",
        "\n",
        "# Example Input:\n",
        "# input_list = [3, 1, 4, 1, 5, 9, 2, 6]\n",
        "\n",
        "# Expected Output:\n",
        "# output_list = [1, 1, 2, 3, 4, 5, 6, 9]\n",
        "\n",
        "def sort_list(input_list):\n",
        "  # Write your code here to sort the input_list and return the sorted list\n",
        "  pass # Replace this pass statement with your sorting logic\n",
        "\n",
        "# Test the function with the example input\n",
        "# sorted_example_list = sort_list(input_list)\n",
        "# print(sorted_example_list)"
      ],
      "metadata": {
        "id": "x8HxdET_Q0gu"
      },
      "execution_count": 5,
      "outputs": []
    },
    {
      "cell_type": "markdown",
      "source": [
        "# Prompt: Write a Python function called 'sort_list' that takes a list of numbers as input and returns a new list with the numbers sorted in ascending order.\n",
        "\n",
        "# Example Input:\n",
        "# input_list = [3, 1, 4, 1, 5, 9, 2, 6]\n",
        "\n",
        "# Expected Output:\n",
        "# output_list = [1, 1, 2, 3, 4, 5, 6, 9]\n",
        "\n",
        "def sort_list(input_list):\n",
        "  # Write your code here to sort the input_list and return the sorted list\n",
        "  pass # Replace this pass statement with your sorting logic\n",
        "\n",
        "# Test the function with the example input\n",
        "# sorted_example_list = sort_list(input_list)\n",
        "# print(sorted_example_list)\n",
        "\n",
        "EXPLAINATION:\n",
        "This code snippet provides a template for creating a Python function called sort_list.\n",
        "\n",
        "Here's a breakdown:\n",
        "\n",
        "Prompt: This describes the goal of the function – to take a list of numbers and return a new list sorted in ascending order.\n",
        "Example Input: This shows a sample list of numbers that would be used as input to the sort_list function.\n",
        "Expected Output: This shows what the sort_list function should return when given the Example Input.\n",
        "def sort_list(input_list):: This defines the function sort_list which takes one argument, input_list.\n",
        "pass: This is a placeholder. You would replace this line with the actual code to sort the input_list.\n",
        "Commented-out test code: The lines starting with # are commented out and show how you would typically test the function with the example input and print the result.\n",
        "This template is designed to guide you in writing the sorting logic within the sort_list function. You would need to replace the pass statement with an algorithm that sorts the input_list and returns the sorted result."
      ],
      "metadata": {
        "id": "aLM-P4FvRYna"
      }
    },
    {
      "cell_type": "markdown",
      "source": [
        "Task3:Write a python program to Start with the vague prompt “Generate python code to calculate power bill” and\n",
        "improve it step-by-step"
      ],
      "metadata": {
        "id": "t9huKi2XRuLs"
      }
    },
    {
      "cell_type": "code",
      "source": [
        "# Prompt: Generate python code to calculate power bill\n",
        "\n",
        "def calculate_power_bill():\n",
        "  # This is a very basic placeholder based on the vague prompt.\n",
        "  # We need more information to make it useful.\n",
        "  print(\"This function is a placeholder for power bill calculation.\")\n",
        "  print(\"Please provide more details about how power bills are calculated (e.g., consumption, rates).\")\n",
        "  return 0 # Returning 0 as a placeholder result\n",
        "\n",
        "# Example usage (will not do much yet)\n",
        "bill_amount = calculate_power_bill()\n",
        "print(f\"Calculated bill amount: {bill_amount}\")"
      ],
      "metadata": {
        "colab": {
          "base_uri": "https://localhost:8080/"
        },
        "id": "9g4WByd6Vvkm",
        "outputId": "3d79f35c-a379-4efb-e9b8-147f27fdecc1"
      },
      "execution_count": 4,
      "outputs": [
        {
          "output_type": "stream",
          "name": "stdout",
          "text": [
            "This function is a placeholder for power bill calculation.\n",
            "Please provide more details about how power bills are calculated (e.g., consumption, rates).\n",
            "Calculated bill amount: 0\n"
          ]
        }
      ]
    },
    {
      "cell_type": "markdown",
      "source": [
        "#EXPLAINATION:\n",
        "\n",
        "This code is a very basic starting point for calculating a power bill, generated from the initial vague prompt.\n",
        "\n",
        "# Prompt: Generate python code to calculate power bill: This is the original prompt used to generate the code.\n",
        "def calculate_power_bill():: This defines a function named calculate_power_bill.\n",
        "The comments within the function explain that this is a placeholder and more details are needed.\n",
        "print(\"This function is a placeholder for power bill calculation.\") and print(\"Please provide more details about how power bills are calculated (e.g., consumption, rates).\"): These lines print messages indicating that the function is incomplete and requires more information.\n",
        "return 0: This line returns 0 as a temporary placeholder value for the bill amount.\n",
        "The lines outside the function show a basic example of how you would call the function and print the result.\n",
        "Essentially, this code acknowledges the request but highlights that the initial prompt was too vague to create a functional power bill calculator. The next steps will involve refining the prompt to provide the necessary details for a more accurate calculation."
      ],
      "metadata": {
        "id": "mzkNm-IgV-Un"
      }
    },
    {
      "cell_type": "markdown",
      "source": [
        "TASK4:Write a python program Write structured comments to help AI generate two linked functions (e.g., login_user()\n",
        "and register_user())"
      ],
      "metadata": {
        "id": "SvFEf769WNlI"
      }
    },
    {
      "cell_type": "code",
      "source": [
        "# This module handles user authentication.\n",
        "\n",
        "# Function: register_user\n",
        "# Description: Registers a new user with a username and password.\n",
        "# Inputs:\n",
        "#   - username (str): The desired username.\n",
        "#   - password (str): The user's password.\n",
        "# Behavior:\n",
        "#   - Checks if the username already exists.\n",
        "#   - If not, securely stores the username and a hashed password.\n",
        "#   - Returns True on successful registration, False otherwise.\n",
        "def register_user(username, password):\n",
        "  pass # Placeholder for registration logic\n",
        "\n",
        "# Function: login_user\n",
        "# Description: Logs in an existing user with a username and password.\n",
        "# Inputs:\n",
        "#   - username (str): The username.\n",
        "#   - password (str): The user's password.\n",
        "# Behavior:\n",
        "#   - Checks if the username exists.\n",
        "#   - If it exists, verifies the provided password against the stored hashed password.\n",
        "#   - Returns True on successful login, False otherwise.\n",
        "# Linked function: register_user (Users must be registered before logging in)\n",
        "def login_user(username, password):\n",
        "  pass # Placeholder for login logic"
      ],
      "metadata": {
        "id": "dXhiE5bHWe0K"
      },
      "execution_count": 3,
      "outputs": []
    },
    {
      "cell_type": "markdown",
      "source": [
        "EXPLAINATION:\n",
        "\n",
        "This code snippet uses structured comments to describe two linked Python functions: register_user and login_user.\n",
        "\n",
        "# This module handles user authentication.: This is a general comment indicating the purpose of this code section.\n",
        "# Function: register_user: This section of comments describes the register_user function.\n",
        "# Description: Explains what the function does (registers a new user).\n",
        "# Inputs: Specifies the expected inputs (username and password) and their data types (str).\n",
        "# Behavior: Outlines the steps the function should perform (check for existing username, store credentials securely, return True/False based on success).\n",
        "def register_user(username, password): pass: This is the actual function definition with a pass statement as a placeholder. The actual registration logic would go here.\n",
        "# Function: login_user: This section of comments describes the login_user function.\n",
        "# Description: Explains what the function does (logs in an existing user).\n",
        "# Inputs: Specifies the expected inputs (username and password) and their data types (str).\n",
        "# Behavior: Outlines the steps the function should perform (check for existing username, verify password, return True/False based on success).\n",
        "# Linked function: register_user: This is an important comment that indicates the relationship between login_user and register_user, highlighting that a user must be registered before they can log in.\n",
        "def login_user(username, password): pass: This is the actual function definition with a pass statement as a placeholder. The actual login logic would go here.\n",
        "These structured comments serve as instructions for an AI (or another developer) to understand the intended functionality and relationships of these functions, making it easier to generate or write the actual code for registration and login.\n",
        "\n"
      ],
      "metadata": {
        "id": "Iqk_6QxpWrV2"
      }
    },
    {
      "cell_type": "markdown",
      "source": [],
      "metadata": {
        "id": "CAmBqWF_W9bt"
      }
    },
    {
      "cell_type": "markdown",
      "source": [
        "TASK5:Write a program in python analyzing Prompt Specificity: Improving Temperature Conversion Function with\n",
        "Clear Instructions"
      ],
      "metadata": {
        "id": "_NXoINMFXUgI"
      }
    },
    {
      "cell_type": "code",
      "source": [
        "# Vague Prompt: Write a function to convert temperature.\n",
        "\n",
        "def convert_temperature(temp):\n",
        "  # This is a placeholder based on the vague prompt.\n",
        "  # We need more specific instructions to implement the conversion.\n",
        "  print(\"This function is a placeholder for temperature conversion.\")\n",
        "  print(\"Please specify the units to convert from and to (e.g., Celsius to Fahrenheit).\")\n",
        "  return None # Returning None as a placeholder result\n",
        "\n",
        "# Example usage (will not do much yet)\n",
        "converted_temp = convert_temperature(25)\n",
        "print(f\"Converted temperature: {converted_temp}\")"
      ],
      "metadata": {
        "id": "Mbn4YZRwXmyD"
      },
      "execution_count": null,
      "outputs": []
    },
    {
      "cell_type": "markdown",
      "source": [
        "Explaination:\n",
        "This code snippet is a result of using the vague prompt \"Write a function to convert temperature\".\n",
        "\n",
        "# Vague Prompt: Write a function to convert temperature.: This comment indicates the prompt used to generate the code.\n",
        "def convert_temperature(temp):: This defines a function named convert_temperature that takes one argument, temp.\n",
        "The comments and print statements inside the function (print(\"This function is a placeholder...\") and print(\"Please specify the units...\")) explain that the function is a placeholder and requires more specific instructions to perform an actual temperature conversion.\n",
        "return None: The function returns None as it cannot perform a meaningful conversion without knowing the input and output units.\n",
        "The lines outside the function show a basic example of how you would call the function and print the result, although in this case, it will just print the placeholder messages and None.\n",
        "This code effectively demonstrates that a vague prompt leads to a non-functional placeholder, highlighting the importance of providing clear and specific instructions when generating code.\n"
      ],
      "metadata": {
        "id": "jhXAWbroY-9h"
      }
    }
  ]
}